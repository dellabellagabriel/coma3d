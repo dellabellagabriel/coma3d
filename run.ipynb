{
 "cells": [
  {
   "cell_type": "code",
   "execution_count": null,
   "metadata": {},
   "outputs": [],
   "source": [
    "from brainstates import BrainStates\n",
    "import numpy as np\n",
    "from scipy.signal.windows import hamming\n",
    "import scipy.io as sio\n",
    "import matplotlib.pyplot as plt\n",
    "from glob import glob\n",
    "from tqdm import tqdm"
   ]
  },
  {
   "cell_type": "code",
   "execution_count": null,
   "metadata": {},
   "outputs": [],
   "source": [
    "MAIN_DIR = \"/home/usuario/disco1/proyectos/2023-Coma3D\"\n",
    "WINDOW_SIZE = 70\n",
    "STRIDE = 8\n",
    "N_CLUSTERS = 3\n",
    "REPLICATES = 1000\n",
    "GROUP = \"all\"\n",
    "\n",
    "subs = glob(f\"{MAIN_DIR}/Preprocess/parcellation/DMN_all/*.mat\")\n",
    "subs = sorted(subs)\n",
    "n_time = 500\n",
    "n_rois = 34\n",
    "data = np.zeros((n_time, n_rois, len(subs)))\n",
    "for i, sub in enumerate(subs):\n",
    "    print(sub)\n",
    "    data[:,:,i] = sio.loadmat(sub)[\"func_roi\"].T\n",
    "\n",
    "data.shape"
   ]
  },
  {
   "cell_type": "code",
   "execution_count": null,
   "metadata": {},
   "outputs": [],
   "source": [
    "if GROUP == \"patients\":\n",
    "    data_conditions = {\"patients\": data[:,:,0:25]}\n",
    "    path = f\"{MAIN_DIR}/scripts/brainstates/pipeline/outputs/patients/{N_CLUSTERS}/{WINDOW_SIZE}_{STRIDE}\"\n",
    "else:\n",
    "    data_conditions = {\"patients\": data[:,:,0:25], \"controls\": data[:,:,25:]}\n",
    "    path = f\"{MAIN_DIR}/scripts/brainstates/pipeline/outputs/all/{N_CLUSTERS}/{WINDOW_SIZE}_{STRIDE}\"\n",
    "\n",
    "\n",
    "b = BrainStates(\n",
    "    from_dict=data_conditions,\n",
    "    output_path=path,\n",
    "    export_vars=True,\n",
    "    verbose=True\n",
    ")"
   ]
  },
  {
   "cell_type": "code",
   "execution_count": null,
   "metadata": {},
   "outputs": [],
   "source": [
    "b.run(\n",
    "    window_size=WINDOW_SIZE,\n",
    "    stride=STRIDE,\n",
    "    tapering_function=None,\n",
    "    subsampling=1,\n",
    "    n_clusters=N_CLUSTERS,\n",
    "    n_init=REPLICATES\n",
    ")\n",
    "\n",
    "\n",
    "probs_patients = b.get_probs()[\"patients\"]\n",
    "if GROUP != \"patients\":\n",
    "    probs_controls = b.get_probs()[\"controls\"]"
   ]
  }
 ],
 "metadata": {
  "kernelspec": {
   "display_name": "Python 3",
   "language": "python",
   "name": "python3"
  },
  "language_info": {
   "codemirror_mode": {
    "name": "ipython",
    "version": 3
   },
   "file_extension": ".py",
   "mimetype": "text/x-python",
   "name": "python",
   "nbconvert_exporter": "python",
   "pygments_lexer": "ipython3",
   "version": "3.8.10"
  }
 },
 "nbformat": 4,
 "nbformat_minor": 2
}
