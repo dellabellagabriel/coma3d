{
 "cells": [
  {
   "cell_type": "code",
   "execution_count": null,
   "metadata": {},
   "outputs": [],
   "source": [
    "import numpy as np\n",
    "import pandas as pd\n",
    "import matplotlib.pyplot as plt\n",
    "from sklearn.ensemble import RandomForestClassifier\n",
    "from sklearn.metrics import confusion_matrix, ConfusionMatrixDisplay, roc_curve, roc_auc_score, precision_score, f1_score, recall_score\n",
    "import scipy.io as sio\n",
    "from scipy.stats import chi2_contingency, fisher_exact, linregress\n",
    "import statsmodels.formula.api as smf\n",
    "from plot_tools import plot_points, plot_correlation, plot_confusion_matrix\n",
    "from pycirclize import Circos\n",
    "import matplotlib.cm as cm\n",
    "import matplotlib\n",
    "from scipy.spatial.distance import cdist\n",
    "from brainstates import AgglomerateTransformer\n",
    "from statsmodels.stats.multitest import fdrcorrection"
   ]
  },
  {
   "cell_type": "code",
   "execution_count": null,
   "metadata": {},
   "outputs": [],
   "source": [
    "MAIN_DIR = \"/home/usuario/disco1/proyectos/2023-Coma3D\"\n",
    "WINDOW_SIZE = 30\n",
    "STRIDE = 16\n",
    "N_CLUSTERS = 2\n",
    "INPUT_PATIENTS_DIR = f\"{MAIN_DIR}/scripts/brainstates/pipeline/outputs/patients/{N_CLUSTERS}/{WINDOW_SIZE}_{STRIDE}\"\n",
    "INPUT_ALL_DIR = f\"{MAIN_DIR}/scripts/brainstates/pipeline/outputs/all/{N_CLUSTERS}/{WINDOW_SIZE}_{STRIDE}\"\n",
    "INPUT_LEAVE_ONE_OUT = f\"{MAIN_DIR}/scripts/brainstates/pipeline/outputs/leave_one_out/{N_CLUSTERS}/{WINDOW_SIZE}_{STRIDE}\"\n",
    "IGNORE_OUTCOME = [6, 16] # we don't have the data on these ones\n",
    "IGNORE_DATA = [6, 17] # we don't have the outcomes on these ones\n",
    "\n",
    "outcomes = pd.read_csv(f\"{MAIN_DIR}/scripts/demographics.csv\")\n",
    "outcomes.drop(index=IGNORE_OUTCOME, inplace=True)\n",
    "outcomes[\"etiology\"] = outcomes[\"etiology\"].astype(\"category\")\n",
    "outcomes[\"sex\"] = outcomes[\"sex\"].astype(\"category\")\n",
    "outcomes[\"binary_outcome_cat\"] = list(map(lambda x: \"WORSE\" if x == 0 else \"BETTER\", outcomes[\"binary_outcome\"]))\n",
    "outcomes[\"binary_outcome_cat\"] = outcomes[\"binary_outcome_cat\"].astype(\"category\").cat.reorder_categories([\"WORSE\", \"BETTER\"])\n",
    "outcomes"
   ]
  },
  {
   "cell_type": "code",
   "execution_count": null,
   "metadata": {},
   "outputs": [],
   "source": [
    "# Import relevant variables and match the corresponding outcome data\n",
    "probs = sio.loadmat(f\"{INPUT_PATIENTS_DIR}/probs_patients.mat\")[\"probs\"]\n",
    "probs_all_controls = sio.loadmat(f\"{INPUT_ALL_DIR}/probs_controls.mat\")[\"probs\"]\n",
    "probs_all_patients = sio.loadmat(f\"{INPUT_ALL_DIR}/probs_patients.mat\")[\"probs\"]\n",
    "\n",
    "c_ord_matrix = sio.loadmat(f\"{INPUT_PATIENTS_DIR}/centroids.mat\")[\"Cord\"]\n",
    "c_ord_matrix_all = sio.loadmat(f\"{INPUT_ALL_DIR}/centroids.mat\")[\"Cord\"]\n",
    "entropy = sio.loadmat(f\"{INPUT_PATIENTS_DIR}/entropy.mat\")[\"H\"]\n",
    "probs = np.delete(probs, IGNORE_DATA, axis=0)\n",
    "outcomes[\"prob1\"] = probs[:,0]\n",
    "outcomes[\"prob2\"] = probs[:,1]\n",
    "#outcomes[\"prob3\"] = probs[:,2]\n",
    "outcomes[\"we\"] = np.sum(probs*np.repeat(entropy, 23, axis=0), axis=1)\n",
    "outcomes"
   ]
  },
  {
   "cell_type": "code",
   "execution_count": null,
   "metadata": {},
   "outputs": [],
   "source": [
    "outcomes.info()"
   ]
  },
  {
   "cell_type": "code",
   "execution_count": null,
   "metadata": {},
   "outputs": [],
   "source": [
    "# Import the control + patient demographics\n",
    "demographics = pd.read_csv(f\"{MAIN_DIR}/scripts/demographics_all.csv\")\n",
    "probs_stacked = np.vstack((probs_all_patients, probs_all_controls))\n",
    "demographics[\"prob1\"] = probs_stacked[:,0]\n",
    "demographics[\"prob2\"] = probs_stacked[:,1]\n",
    "#demographics[\"prob3\"] = probs_stacked[:,2]\n",
    "demographics[\"sex\"] = demographics[\"sex\"].astype(\"category\")\n",
    "demographics[\"group\"] = demographics[\"group\"].astype(\"category\")\n",
    "demographics"
   ]
  },
  {
   "cell_type": "markdown",
   "metadata": {},
   "source": [
    "#### Circlize"
   ]
  },
  {
   "cell_type": "code",
   "execution_count": null,
   "metadata": {},
   "outputs": [],
   "source": [
    "roi_names = np.array([\"Frontal_Sup_L\",\"Frontal_Sup_Medial_L_R\",\"Cingulum_Ant_L\",\"Frontal_Sup_Medial_L\",\"Cingulum_Ant_L_2\",\"Frontal_Sup_Medial_L_2\",\"Frontal_Med_Orb_R\",\"Cingulum_Ant_L_R\",\"Frontal_Sup_L_2\",\"Cingulum_Ant_L_3\",\"Frontal_Med_Orb_L\",\"Angular_L\",\"Frontal_Sup_R\",\"PreCuneus_L_R\",\"PreCuneus_L_R_2\",\"Cingulum_Post_L_R\",\"Cingulum_Mid_L_R\",\"Angular_R\",\"Thalamus_L_R\",\"ParaHippocampal_L\",\"ParaHippocampal_R\",\"Calcarine_L\",\"Frontal_Mid_L\",\"Fusiform_L\",\"Occipital_Mid_L\",\"Precuneus_R/Lingual_R\",\"PreCuneus_L_R\",\"PreCuneus_R\",\"PreCuneus_L\",\"PreCuneus_R_2\",\"Frontal_Mid_R\",\"Frontal_Mid_R_2\",\"Fusiform_R\",\"Occipital_Mid_R\"])\n",
    "sector_names = [\"Frontal\", \"Precuneus\", \"Cingulum\", \"Other\"]\n",
    "sectors = {\"Frontal\": 11, \"Precuneus\": 7, \"Cingulum\": 6, \"Other\": 10}\n",
    "name2color = {\"Frontal\": \"#ffb152\", \"Precuneus\": \"#ff3bf2\", \"Cingulum\": \"green\", \"Other\": \"gray\"}\n",
    "sector_rois = {\n",
    "    \"Frontal\": [0, 1, 3, 5, 6, 8, 10, 12, 22, 30, 31],\n",
    "    \"Cingulum\": [2, 4, 7, 9, 15, 16],\n",
    "    \"Precuneus\": [13, 14, 25, 26, 27, 28, 29],\n",
    "    \"Other\": [11, 17, 18, 19, 20, 21, 23, 32, 24, 33]\n",
    "}\n",
    "circos = Circos(sectors, space=5)\n",
    "for sector in circos.sectors:\n",
    "    track = sector.add_track((95, 100))\n",
    "    track.axis(fc=name2color[sector.name])\n",
    "    track.text(sector.name, color=\"white\", size=12)\n",
    "    #track.xticks_by_interval(1, label_formatter=label_formatter_func, label_orientation=\"vertical\")\n",
    "    track.xticks(\n",
    "        np.arange(0, len(sector_rois[sector.name]))+0.5,\n",
    "        #labels=roi_names[sector_rois[sector.name]],\n",
    "        #label_orientation=\"vertical\",\n",
    "        #label_margin=3,\n",
    "        #label_size=14\n",
    "    )\n",
    "\n",
    "\n",
    "# Plot links\n",
    "\n",
    "matrix = c_ord_matrix[0,:,:]\n",
    "thr_pos = np.percentile(matrix[matrix > 0], 90)\n",
    "thr_neg = np.percentile(matrix[matrix < 0], 10)\n",
    "\n",
    "minima = np.min(matrix)\n",
    "maxima = np.max(matrix)\n",
    "\n",
    "norm = matplotlib.colors.Normalize(vmin=minima, vmax=maxima, clip=True)\n",
    "mapper = cm.ScalarMappable(norm=norm, cmap=cm.turbo)\n",
    "\n",
    "for i, isector in enumerate(sector_names):\n",
    "    for j, jsector in enumerate(sector_names):\n",
    "        for k, kroi in enumerate(sector_rois[isector]):\n",
    "            for l, lroi in enumerate(sector_rois[jsector]):\n",
    "                value = matrix[kroi,lroi]\n",
    "                color = \"red\" if value > 0 else \"blue\"\n",
    "                if value > thr_pos or value < thr_neg:\n",
    "                    circos.link((isector, k, k+1), (jsector, l, l+1), color=color, alpha=0.2)\n",
    "\n",
    "\n",
    "\n",
    "fig = circos.plotfig()\n",
    "circos.savefig(f\"{INPUT_ALL_DIR}/figures/circlize_state1.png\")"
   ]
  },
  {
   "cell_type": "markdown",
   "metadata": {},
   "source": [
    "#### Centroids patients"
   ]
  },
  {
   "cell_type": "code",
   "execution_count": null,
   "metadata": {},
   "outputs": [],
   "source": [
    "plt.subplots(figsize=(6,6))\n",
    "plt.imshow(c_ord_matrix[0,:,:], vmin=-0.2, vmax=0.8, cmap=\"turbo\")\n",
    "\n",
    "plt.axis(\"off\")\n",
    "plt.savefig(f\"{INPUT_PATIENTS_DIR}/figures/centroid-1.png\")"
   ]
  },
  {
   "cell_type": "code",
   "execution_count": null,
   "metadata": {},
   "outputs": [],
   "source": [
    "plt.subplots(figsize=(6,6))\n",
    "plt.imshow(c_ord_matrix[1,:,:], vmin=-0.2, vmax=0.8, cmap=\"turbo\")\n",
    "\n",
    "plt.axis(\"off\")\n",
    "plt.savefig(f\"{INPUT_PATIENTS_DIR}/figures/centroid-2.png\")"
   ]
  },
  {
   "cell_type": "markdown",
   "metadata": {},
   "source": [
    "#### Centroids controls + patients"
   ]
  },
  {
   "cell_type": "markdown",
   "metadata": {},
   "source": [
    "#### centroid 1"
   ]
  },
  {
   "cell_type": "code",
   "execution_count": null,
   "metadata": {},
   "outputs": [],
   "source": [
    "plt.subplots(figsize=(6,6))\n",
    "plt.imshow(c_ord_matrix_all[0,:,:], vmin=-0.2, vmax=0.8, cmap=\"turbo\")\n",
    "\n",
    "plt.axis(\"off\")\n",
    "plt.savefig(f\"{INPUT_ALL_DIR}/figures/centroid-1.png\")"
   ]
  },
  {
   "cell_type": "markdown",
   "metadata": {},
   "source": [
    "#### DMN dorsal, centroid 1"
   ]
  },
  {
   "cell_type": "code",
   "execution_count": null,
   "metadata": {},
   "outputs": [],
   "source": [
    "# 115 Frontal_Sup_L\n",
    "# 116 Frontal_Sup_Medial_L_R\n",
    "# 117 Cingulum_Ant_L\n",
    "# 118 Frontal_Sup_Medial_L\n",
    "# 119 Cingulum_Ant_L_2\n",
    "# 120 Frontal_Sup_Medial_L_2\n",
    "# 121 Frontal_Med_Orb_R\n",
    "# 122 Cingulum_Ant_L_R\n",
    "# 123 Frontal_Sup_L_2\n",
    "# 124 Cingulum_Ant_L_3\n",
    "# 125 Frontal_Med_Orb_L\n",
    "\n",
    "# 126 Angular_L\n",
    "# 127 Frontal_Sup_R\n",
    "# 128 PreCuneus_L_R\n",
    "# 129 PreCuneus_L_R_2\n",
    "# 130 Cingulum_Post_L_R\n",
    "# 131 Cingulum_Mid_L_R\n",
    "# 132 Angular_R\n",
    "# 133 Thalamus_L_R\n",
    "# 134 ParaHippocampal_L\n",
    "# 135 ParaHippocampal_R\n",
    "\n",
    "plt.imshow(c_ord_matrix_all[0,0:20,0:20], vmin=-0.2, vmax=0.8, cmap=\"turbo\")"
   ]
  },
  {
   "cell_type": "markdown",
   "metadata": {},
   "source": [
    "#### DMN ventral, centroid 1"
   ]
  },
  {
   "cell_type": "code",
   "execution_count": null,
   "metadata": {},
   "outputs": [],
   "source": [
    "# 216 Calcarine_L\n",
    "# 217 Frontal_Mid_L\n",
    "# 218 Fusiform_L\n",
    "# 219 Occipital_Mid_L\n",
    "# 220 Precuneus_R/Lingual_R\n",
    "# 221 PreCuneus_L_R\n",
    "# 222 PreCuneus_R\n",
    "# 223 PreCuneus_L\n",
    "# 224 PreCuneus_R_2\n",
    "# 225 Frontal_Mid_R\n",
    "# 226 Frontal_Mid_R_2\n",
    "# 227 Fusiform_R \n",
    "# 228 Occipital_Mid_R\n",
    "\n",
    "plt.imshow(c_ord_matrix_all[0,20:,20:], vmin=-0.2, vmax=0.8, cmap=\"turbo\")"
   ]
  },
  {
   "cell_type": "code",
   "execution_count": null,
   "metadata": {},
   "outputs": [],
   "source": [
    "plt.imshow(c_ord_matrix_all[0,:20,20:], vmin=-0.2, vmax=0.8, cmap=\"turbo\")"
   ]
  },
  {
   "cell_type": "markdown",
   "metadata": {},
   "source": [
    "#### Centroid 2"
   ]
  },
  {
   "cell_type": "code",
   "execution_count": null,
   "metadata": {},
   "outputs": [],
   "source": [
    "plt.subplots(figsize=(6,6))\n",
    "plt.imshow(c_ord_matrix_all[1,:,:], vmin=-0.2, vmax=0.8, cmap=\"turbo\")\n",
    "\n",
    "plt.axis(\"off\")\n",
    "plt.savefig(f\"{INPUT_ALL_DIR}/figures/centroid-2.png\")"
   ]
  },
  {
   "cell_type": "markdown",
   "metadata": {},
   "source": [
    "#### DMN dorsal, centroid 2"
   ]
  },
  {
   "cell_type": "code",
   "execution_count": null,
   "metadata": {},
   "outputs": [],
   "source": [
    "plt.imshow(c_ord_matrix_all[1,0:20,0:20], vmin=-0.2, vmax=0.8, cmap=\"turbo\")"
   ]
  },
  {
   "cell_type": "markdown",
   "metadata": {},
   "source": [
    "#### DMN ventral, centroid 2"
   ]
  },
  {
   "cell_type": "code",
   "execution_count": null,
   "metadata": {},
   "outputs": [],
   "source": [
    "plt.imshow(c_ord_matrix_all[1,20:,20:], vmin=-0.2, vmax=0.8, cmap=\"turbo\")"
   ]
  },
  {
   "cell_type": "code",
   "execution_count": null,
   "metadata": {},
   "outputs": [],
   "source": [
    "plt.imshow(c_ord_matrix_all[1,:20,20:], vmin=-0.2, vmax=0.8, cmap=\"turbo\")"
   ]
  },
  {
   "cell_type": "markdown",
   "metadata": {},
   "source": [
    "#### subdivision DMN frontal, cingulum, precuneus, other sobre centroide"
   ]
  },
  {
   "cell_type": "code",
   "execution_count": null,
   "metadata": {},
   "outputs": [],
   "source": [
    "c1_frontal = c_ord_matrix[0, sector_rois[\"Frontal\"], :][:, sector_rois[\"Frontal\"]]\n",
    "c1_cingulum = c_ord_matrix[0, sector_rois[\"Cingulum\"], :][:, sector_rois[\"Cingulum\"]]\n",
    "c1_precuneus = c_ord_matrix[0, sector_rois[\"Precuneus\"], :][:, sector_rois[\"Precuneus\"]]\n",
    "c1_other = c_ord_matrix[0, sector_rois[\"Other\"], :][:, sector_rois[\"Other\"]]\n",
    "\n",
    "c2_frontal = c_ord_matrix[1, sector_rois[\"Frontal\"], :][:, sector_rois[\"Frontal\"]]\n",
    "c2_cingulum = c_ord_matrix[1, sector_rois[\"Cingulum\"], :][:, sector_rois[\"Cingulum\"]]\n",
    "c2_precuneus = c_ord_matrix[1, sector_rois[\"Precuneus\"], :][:, sector_rois[\"Precuneus\"]]\n",
    "c2_other = c_ord_matrix[1, sector_rois[\"Other\"], :][:, sector_rois[\"Other\"]]\n",
    "\n",
    "plt.title(\"intra\")\n",
    "plt.bar(\n",
    "    np.array([1,2,3,4])-0.2,\n",
    "    [c1_frontal[np.triu_indices(len(c1_frontal))].mean(), c1_cingulum[np.triu_indices(len(c1_cingulum))].mean(), c1_precuneus[np.triu_indices(len(c1_precuneus))].mean(), c1_other[np.triu_indices(len(c1_other))].mean()],\n",
    "    yerr=[c1_frontal[np.triu_indices(len(c1_frontal))].std()/np.sqrt(len(c1_frontal)), c1_cingulum[np.triu_indices(len(c1_cingulum))].std()/np.sqrt(len(c1_cingulum)), c1_precuneus[np.triu_indices(len(c1_precuneus))].std()/np.sqrt(len(c1_precuneus)), c1_other[np.triu_indices(len(c1_other))].std()/np.sqrt(len(c1_other))],\n",
    "    width=0.4\n",
    ")\n",
    "plt.bar(\n",
    "    np.array([1,2,3,4])+0.2,\n",
    "    [c2_frontal[np.triu_indices(len(c2_frontal))].mean(), c2_cingulum[np.triu_indices(len(c2_cingulum))].mean(), c2_precuneus[np.triu_indices(len(c2_precuneus))].mean(), c2_other[np.triu_indices(len(c2_other))].mean()],\n",
    "    yerr=[c2_frontal[np.triu_indices(len(c2_frontal))].std()/np.sqrt(len(c2_frontal)), c2_cingulum[np.triu_indices(len(c2_cingulum))].std()/np.sqrt(len(c2_cingulum)), c2_precuneus[np.triu_indices(len(c2_precuneus))].std()/np.sqrt(len(c2_precuneus)), c2_other[np.triu_indices(len(c2_other))].std()/np.sqrt(len(c2_other))],\n",
    "    width=0.4\n",
    ")\n",
    "plt.xticks([1,2,3,4], labels=[\"frontal\", \"cingulum\", \"precuneus\", \"other\"])"
   ]
  },
  {
   "cell_type": "code",
   "execution_count": null,
   "metadata": {},
   "outputs": [],
   "source": [
    "c1_frontal_cingulum = c_ord_matrix[0, sector_rois[\"Frontal\"], :][:, sector_rois[\"Cingulum\"]]\n",
    "c1_frontal_precuneus = c_ord_matrix[0, sector_rois[\"Frontal\"], :][:, sector_rois[\"Precuneus\"]]\n",
    "c1_frontal_other = c_ord_matrix[0, sector_rois[\"Frontal\"], :][:, sector_rois[\"Other\"]]\n",
    "c1_cingulum_precuneus = c_ord_matrix[0, sector_rois[\"Cingulum\"], :][:, sector_rois[\"Precuneus\"]]\n",
    "c1_cingulum_other = c_ord_matrix[0, sector_rois[\"Cingulum\"], :][:, sector_rois[\"Other\"]]\n",
    "c1_precuneus_other = c_ord_matrix[0, sector_rois[\"Precuneus\"], :][:, sector_rois[\"Other\"]]\n",
    "\n",
    "c2_frontal_cingulum = c_ord_matrix[1, sector_rois[\"Frontal\"], :][:, sector_rois[\"Cingulum\"]]\n",
    "c2_frontal_precuneus = c_ord_matrix[1, sector_rois[\"Frontal\"], :][:, sector_rois[\"Precuneus\"]]\n",
    "c2_frontal_other = c_ord_matrix[1, sector_rois[\"Frontal\"], :][:, sector_rois[\"Other\"]]\n",
    "c2_cingulum_precuneus = c_ord_matrix[1, sector_rois[\"Cingulum\"], :][:, sector_rois[\"Precuneus\"]]\n",
    "c2_cingulum_other = c_ord_matrix[1, sector_rois[\"Cingulum\"], :][:, sector_rois[\"Other\"]]\n",
    "c2_precuneus_other = c_ord_matrix[1, sector_rois[\"Precuneus\"], :][:, sector_rois[\"Other\"]]\n",
    "\n",
    "plt.title(\"inter\")\n",
    "plt.bar(\n",
    "    np.array([1,2,3,4,5,6])-0.2,\n",
    "    [c1_frontal_cingulum.mean(), c1_frontal_precuneus.mean(), c1_frontal_other.mean(), c1_cingulum_precuneus.mean(), c1_cingulum_other.mean(), c1_precuneus_other.mean()],\n",
    "    yerr=[c1_frontal_cingulum.std()/np.sqrt(len(c1_frontal_cingulum)), c1_frontal_precuneus.std()/np.sqrt(len(c1_frontal_precuneus)), c1_frontal_other.std()/np.sqrt(len(c1_frontal_other)), c1_cingulum_precuneus.std()/np.sqrt(len(c1_cingulum_precuneus)), c1_cingulum_other.std()/np.sqrt(len(c1_cingulum_other)), c1_precuneus_other.std()/np.sqrt(len(c1_precuneus_other))],\n",
    "    width=0.4\n",
    ")\n",
    "\n",
    "plt.bar(\n",
    "    np.array([1,2,3,4,5,6])+0.2,\n",
    "    [c2_frontal_cingulum.mean(), c2_frontal_precuneus.mean(), c2_frontal_other.mean(), c2_cingulum_precuneus.mean(), c2_cingulum_other.mean(), c2_precuneus_other.mean()],\n",
    "    yerr=[c2_frontal_cingulum.std()/np.sqrt(len(c2_frontal_cingulum)), c2_frontal_precuneus.std()/np.sqrt(len(c2_frontal_precuneus)), c2_frontal_other.std()/np.sqrt(len(c2_frontal_other)), c2_cingulum_precuneus.std()/np.sqrt(len(c2_cingulum_precuneus)), c2_cingulum_other.std()/np.sqrt(len(c2_cingulum_other)), c2_precuneus_other.std()/np.sqrt(len(c2_precuneus_other))],\n",
    "    width=0.4\n",
    ")\n",
    "\n",
    "plt.xticks([1,2,3,4,5,6], labels=[\"frontal-cingulum\",\"frontal-precuneus\",\"frontal-other\",\"cingulum-precuneus\",\"cingulum-other\",\"precuneus-other\"], rotation=90)"
   ]
  },
  {
   "cell_type": "markdown",
   "metadata": {},
   "source": [
    "#### subdivision DMN sobre sujetos"
   ]
  },
  {
   "cell_type": "code",
   "execution_count": null,
   "metadata": {},
   "outputs": [],
   "source": [
    "dfc = sio.loadmat(f\"{INPUT_ALL_DIR}/dfc.mat\")[\"dfc\"]\n",
    "n_windows, n_rois, n_rois, n_subs = dfc.shape\n",
    "\n",
    "conn_subrois = np.empty((48,30,2,4))\n",
    "conn_subrois[:] = np.nan\n",
    "conn_subrois_inter = np.empty((48,30,2,6))\n",
    "conn_subrois_inter[:] = np.nan\n",
    "for sub in range(n_subs):\n",
    "    pred_list_a = []\n",
    "    for window in range(n_windows):\n",
    "        fc = dfc[window,:,:,sub]\n",
    "        pred = cdist(fc.reshape(1,34*34), c_ord_matrix_all.reshape(2, 34*34), metric=\"cityblock\").argmin(axis=1)\n",
    "        pred_list[window] = pred\n",
    "        pred_list_a.append(pred)\n",
    "        \n",
    "        c1_frontal = fc[sector_rois[\"Frontal\"], :][:, sector_rois[\"Frontal\"]]\n",
    "        c1_cingulum = fc[sector_rois[\"Cingulum\"], :][:, sector_rois[\"Cingulum\"]]\n",
    "        c1_precuneus = fc[sector_rois[\"Precuneus\"], :][:, sector_rois[\"Precuneus\"]]\n",
    "        c1_other = fc[sector_rois[\"Other\"], :][:, sector_rois[\"Other\"]]\n",
    "\n",
    "        c1_frontal_cingulum = fc[sector_rois[\"Frontal\"], :][:, sector_rois[\"Cingulum\"]]\n",
    "        c1_frontal_precuneus = fc[sector_rois[\"Frontal\"], :][:, sector_rois[\"Precuneus\"]]\n",
    "        c1_frontal_other = fc[sector_rois[\"Frontal\"], :][:, sector_rois[\"Other\"]]\n",
    "        c1_cingulum_precuneus = fc[sector_rois[\"Cingulum\"], :][:, sector_rois[\"Precuneus\"]]\n",
    "        c1_cingulum_other = fc[sector_rois[\"Cingulum\"], :][:, sector_rois[\"Other\"]]\n",
    "        c1_precuneus_other = fc[sector_rois[\"Precuneus\"], :][:, sector_rois[\"Other\"]]\n",
    "\n",
    "        conn_frontal = c1_frontal[np.triu_indices(len(c1_frontal))].mean()\n",
    "        conn_cingulum = c1_cingulum[np.triu_indices(len(c1_cingulum))].mean()\n",
    "        conn_precuneus = c1_precuneus[np.triu_indices(len(c1_precuneus))].mean()\n",
    "        conn_other = c1_other[np.triu_indices(len(c1_other))].mean()\n",
    "\n",
    "        conn_frontal_cingulum = c1_frontal_cingulum.mean()\n",
    "        conn_frontal_precuneus = c1_frontal_precuneus.mean()\n",
    "        conn_frontal_other = c1_frontal_other.mean()\n",
    "        conn_cingulum_precuneus = c1_cingulum_precuneus.mean()\n",
    "        conn_cingulum_other = c1_cingulum_other.mean()\n",
    "        conn_precuneus_other = c1_precuneus_other.mean()\n",
    "\n",
    "        conn_subrois[sub, window, pred, :] = [conn_frontal, conn_cingulum, conn_precuneus, conn_other]\n",
    "        conn_subrois_inter[sub, window, pred, :] = [conn_frontal_cingulum, conn_frontal_precuneus, conn_frontal_other, conn_cingulum_precuneus, conn_cingulum_other, conn_precuneus_other]\n",
    "\n",
    "# hay algunos sujetos que tienen todo estado 1 o estado 2 asi que van a seguir habiendo nans despues de este paso\n",
    "conn_subrois_avg_window = np.nanmean(conn_subrois, axis=1)\n",
    "conn_subrois_inter_avg_window = np.nanmean(conn_subrois_inter, axis=1)"
   ]
  },
  {
   "cell_type": "code",
   "execution_count": null,
   "metadata": {},
   "outputs": [],
   "source": [
    "fig, ax = plt.subplots(figsize=(10,10))\n",
    "ax.bar(\n",
    "    np.array([1,2,3,4])-0.2,\n",
    "    np.nanmean(conn_subrois_avg_window[:,0,:], axis=0),\n",
    "    yerr=np.nanstd(conn_subrois_avg_window[:,0,:], axis=0)/np.sqrt(48),\n",
    "    width=0.4,\n",
    "    color=\"#333333\",\n",
    "    capsize=6,\n",
    "    error_kw=dict(lw=5, capsize=7, capthick=4)\n",
    ")\n",
    "ax.bar(\n",
    "    np.array([1,2,3,4])+0.2,\n",
    "    np.nanmean(conn_subrois_avg_window[:,1,:], axis=0),\n",
    "    yerr=np.nanstd(conn_subrois_avg_window[:,1,:], axis=0)/np.sqrt(48),\n",
    "    width=0.4,\n",
    "    color=\"#cccccc\",\n",
    "    capsize=6,\n",
    "    error_kw=dict(lw=5, capsize=7, capthick=4)\n",
    ")\n",
    "ax.set_xticks([1,2,3,4], labels=\"\")\n",
    "ax.set_ylim([0.2, 0.7])\n",
    "\n",
    "plt.rcParams.update({'font.size': 50})\n",
    "ax.spines[['right', 'top']].set_visible(False)\n",
    "plt.setp(ax.spines.values(), linewidth=8)\n",
    "\n",
    "plt.tight_layout()\n",
    "plt.savefig(f\"{INPUT_ALL_DIR}/figures/subdivision_intra.png\")"
   ]
  },
  {
   "cell_type": "code",
   "execution_count": null,
   "metadata": {},
   "outputs": [],
   "source": [
    "fig, ax = plt.subplots(figsize=(14,10))\n",
    "ax.bar(\n",
    "    np.array([1,2,3,4,5,6])-0.2,\n",
    "    np.nanmean(conn_subrois_inter_avg_window[:,0,:], axis=0),\n",
    "    yerr=np.nanstd(conn_subrois_inter_avg_window[:,0,:], axis=0)/np.sqrt(48),\n",
    "    width=0.4,\n",
    "    color=\"#333333\",\n",
    "    capsize=6,\n",
    "    error_kw=dict(lw=5, capsize=7, capthick=4)\n",
    ")\n",
    "ax.bar(\n",
    "    np.array([1,2,3,4,5,6])+0.2,\n",
    "    np.nanmean(conn_subrois_inter_avg_window[:,1,:], axis=0),\n",
    "    yerr=np.nanstd(conn_subrois_inter_avg_window[:,1,:], axis=0)/np.sqrt(48),\n",
    "    width=0.4,\n",
    "    color=\"#cccccc\",\n",
    "    capsize=6,\n",
    "    error_kw=dict(lw=5, capsize=7, capthick=4)\n",
    ")\n",
    "ax.set_xticks([1,2,3,4,5,6], labels=\"\")\n",
    "ax.set_ylim([-0.05, 0.42])\n",
    "\n",
    "plt.rcParams.update({'font.size': 50})\n",
    "ax.spines[['right', 'top', 'bottom']].set_visible(False)\n",
    "plt.setp(ax.spines.values(), linewidth=8)\n",
    "\n",
    "plt.tight_layout()\n",
    "plt.savefig(f\"{INPUT_ALL_DIR}/figures/subdivision_inter.png\")"
   ]
  },
  {
   "cell_type": "code",
   "execution_count": null,
   "metadata": {},
   "outputs": [],
   "source": [
    "df_data = {\"subject\": [], \"age\": [], \"sex\": [], \"centroid\": [], \"subroi\": [], \"conn\": []}\n",
    "for sub in range(48):\n",
    "    for centroid in range(2):\n",
    "        for subroi in range(4+6):\n",
    "            df_data[\"subject\"].append(sub+1)\n",
    "            df_data[\"age\"].append(demographics[\"age\"][sub])\n",
    "            df_data[\"sex\"].append(demographics[\"sex\"][sub])\n",
    "            df_data[\"centroid\"].append(centroid+1)\n",
    "            df_data[\"subroi\"].append(subroi)\n",
    "            if subroi < 4: #intra\n",
    "                df_data[\"conn\"].append(conn_subrois_avg_window[sub, centroid, subroi])\n",
    "            else: #inter\n",
    "                df_data[\"conn\"].append(conn_subrois_inter_avg_window[sub, centroid, subroi-4])\n",
    "\n",
    "df = pd.DataFrame(df_data)\n",
    "df[\"centroid\"] = df[\"centroid\"].astype(\"category\")\n",
    "df[\"subroi\"] = df[\"subroi\"].astype(\"category\")\n",
    "df[\"sex\"] = df[\"sex\"].astype(\"category\")\n",
    "\n",
    "df_frontal = df[df[\"subroi\"] == 0]\n",
    "df_cingulum = df[df[\"subroi\"] == 1]\n",
    "df_precuneus = df[df[\"subroi\"] == 2]\n",
    "df_other = df[df[\"subroi\"] == 3]\n",
    "df_frontal_cingulum = df[df[\"subroi\"] == 4]\n",
    "df_frontal_precuneus = df[df[\"subroi\"] == 5]\n",
    "df_frontal_other = df[df[\"subroi\"] == 6]\n",
    "df_cingulum_precuneus = df[df[\"subroi\"] == 7]\n",
    "df_cingulum_other = df[df[\"subroi\"] == 8]\n",
    "df_precuneus_other = df[df[\"subroi\"] == 9]\n",
    "\n",
    "\n",
    "ols_model = smf.ols(\"conn ~ centroid + age + sex\", df_frontal).fit()\n",
    "centroid_pvalue_frontal = ols_model.pvalues[1]\n",
    "ols_model = smf.ols(\"conn ~ centroid + age + sex\", df_cingulum).fit()\n",
    "centroid_pvalue_cingulum = ols_model.pvalues[1]\n",
    "ols_model = smf.ols(\"conn ~ centroid + age + sex\", df_precuneus).fit()\n",
    "centroid_pvalue_precuneus = ols_model.pvalues[1]\n",
    "ols_model = smf.ols(\"conn ~ centroid + age + sex\", df_other).fit()\n",
    "centroid_pvalue_other = ols_model.pvalues[1]\n",
    "\n",
    "ols_model = smf.ols(\"conn ~ centroid + age + sex\", df_frontal_cingulum).fit()\n",
    "centroid_pvalue_frontal_cingulum = ols_model.pvalues[1]\n",
    "ols_model = smf.ols(\"conn ~ centroid + age + sex\", df_frontal_precuneus).fit()\n",
    "centroid_pvalue_frontal_precuneus = ols_model.pvalues[1]\n",
    "ols_model = smf.ols(\"conn ~ centroid + age + sex\", df_frontal_other).fit()\n",
    "centroid_pvalue_frontal_other = ols_model.pvalues[1]\n",
    "ols_model = smf.ols(\"conn ~ centroid + age + sex\", df_cingulum_precuneus).fit()\n",
    "centroid_pvalue_cingulum_precuneus = ols_model.pvalues[1]\n",
    "ols_model = smf.ols(\"conn ~ centroid + age + sex\", df_cingulum_other).fit()\n",
    "centroid_pvalue_cingulum_other = ols_model.pvalues[1]\n",
    "ols_model = smf.ols(\"conn ~ centroid + age + sex\", df_precuneus_other).fit()\n",
    "print(ols_model.summary2(), ols_model.pvalues[1])\n",
    "centroid_pvalue_precuneus_other = ols_model.pvalues[1]\n",
    "\n",
    "h, pcorregido = fdrcorrection(\n",
    "    [centroid_pvalue_frontal, centroid_pvalue_cingulum, centroid_pvalue_precuneus, centroid_pvalue_other, centroid_pvalue_frontal_cingulum, centroid_pvalue_frontal_precuneus, centroid_pvalue_frontal_other, centroid_pvalue_cingulum_precuneus, centroid_pvalue_cingulum_other, centroid_pvalue_precuneus_other],\n",
    "    alpha=0.05, method=\"indep\", is_sorted=False\n",
    ")\n",
    "\n",
    "h, pcorregido"
   ]
  },
  {
   "cell_type": "markdown",
   "metadata": {},
   "source": [
    "#### Colorbar"
   ]
  },
  {
   "cell_type": "code",
   "execution_count": null,
   "metadata": {},
   "outputs": [],
   "source": [
    "fig, ax = plt.subplots(figsize=(6,6))\n",
    "cax = ax.imshow(np.zeros((34,34)), vmin=-0.2, vmax=0.8, cmap=\"turbo\")\n",
    "cbar = fig.colorbar(cax, ticks=[-0.2, 0.8])\n",
    "\n",
    "plt.rcParams.update({'font.size': 30})\n",
    "plt.tight_layout()\n",
    "plt.savefig(f\"{INPUT_ALL_DIR}/figures/colorbar.png\")"
   ]
  },
  {
   "cell_type": "code",
   "execution_count": null,
   "metadata": {},
   "outputs": [],
   "source": [
    "fig, ax = plt.subplots(figsize=(6,6))\n",
    "cax = ax.imshow(np.zeros((34,34)), vmin=0, vmax=0.4, cmap=\"turbo\")\n",
    "cbar = fig.colorbar(cax, ticks=[0, 0.4], location=\"bottom\")\n",
    "\n",
    "plt.rcParams.update({'font.size': 30})\n",
    "plt.tight_layout()\n",
    "plt.savefig(f\"{INPUT_ALL_DIR}/figures/colorbar-horizontal.png\")"
   ]
  },
  {
   "cell_type": "markdown",
   "metadata": {},
   "source": [
    "#### Probabilities (controls + patients)"
   ]
  },
  {
   "cell_type": "markdown",
   "metadata": {},
   "source": [
    "Prob 1"
   ]
  },
  {
   "cell_type": "code",
   "execution_count": null,
   "metadata": {},
   "outputs": [],
   "source": [
    "plot_points(\n",
    "    probs_all_controls[:,0], \n",
    "    probs_all_patients[:,0], \n",
    "    facecolors=[\"#222222\", \"#cc0000\"], \n",
    "    alpha=0.25,\n",
    "    capsize=5, \n",
    "    elinewidth=5, \n",
    "    capthick=5,\n",
    "    dot_size=500,\n",
    "    figsize=(10,10)\n",
    ")\n",
    "\n",
    "plt.rcParams.update({'font.size': 50})\n",
    "plt.tight_layout()\n",
    "plt.savefig(f\"{INPUT_ALL_DIR}/figures/state1.png\")"
   ]
  },
  {
   "cell_type": "code",
   "execution_count": null,
   "metadata": {},
   "outputs": [],
   "source": [
    "ols_model = smf.ols(\"prob1 ~ group + sex + age\", demographics).fit()\n",
    "\n",
    "with open(f\"{INPUT_ALL_DIR}/statistics/prob1_group_age_sex.txt\", \"w\") as f:\n",
    "    f.write(ols_model.summary2().__str__())\n",
    "    \n",
    "ols_model.summary2()"
   ]
  },
  {
   "cell_type": "markdown",
   "metadata": {},
   "source": [
    "Prob 2"
   ]
  },
  {
   "cell_type": "code",
   "execution_count": null,
   "metadata": {},
   "outputs": [],
   "source": [
    "plot_points(\n",
    "    probs_all_controls[:,1], \n",
    "    probs_all_patients[:,1], \n",
    "    facecolors=[\"#222222\", \"#cc0000\"],  \n",
    "    alpha=0.25,\n",
    "    capsize=5, \n",
    "    elinewidth=5, \n",
    "    capthick=5,\n",
    "    dot_size=500,\n",
    "    figsize=(10,10)\n",
    ")\n",
    "\n",
    "plt.rcParams.update({'font.size': 50})\n",
    "plt.tight_layout()\n",
    "plt.savefig(f\"{INPUT_ALL_DIR}/figures/state2.png\")"
   ]
  },
  {
   "cell_type": "code",
   "execution_count": null,
   "metadata": {},
   "outputs": [],
   "source": [
    "ols_model = smf.ols(\"prob1 ~ group + sex + age\", demographics).fit()\n",
    "\n",
    "with open(f\"{INPUT_ALL_DIR}/statistics/prob2_group_age_sex.txt\", \"w\") as f:\n",
    "    f.write(ols_model.summary2().__str__())\n",
    "    \n",
    "ols_model.summary2()"
   ]
  },
  {
   "cell_type": "markdown",
   "metadata": {},
   "source": [
    "#### Correlations with CRSR (only patients)"
   ]
  },
  {
   "cell_type": "code",
   "execution_count": null,
   "metadata": {},
   "outputs": [],
   "source": [
    "lr = linregress(outcomes[\"outcome_crsr\"], outcomes[\"prob1\"])\n",
    "plot_correlation(\n",
    "    outcomes[\"outcome_crsr\"], \n",
    "    outcomes[\"prob1\"], \n",
    "    lr, \n",
    "    output_file=f\"{INPUT_PATIENTS_DIR}/figures/prob1_crsr.png\",\n",
    "    xmin=0,\n",
    "    xmax=23,\n",
    "    ymin=0,\n",
    "    ymax=1,\n",
    "    xticks=[0, 5, 10, 15, 20],\n",
    "    xtickslabels=[0,5,10,15,20],\n",
    "    facecolor=\"#cc0000\",\n",
    "    figsize=(10,10)\n",
    ")\n",
    "\n",
    "plt.rcParams.update({'font.size': 40})"
   ]
  },
  {
   "cell_type": "code",
   "execution_count": null,
   "metadata": {},
   "outputs": [],
   "source": [
    "ols_model = smf.ols(\"prob1 ~ outcome_crsr + age + sex + etiology\", outcomes).fit()\n",
    "\n",
    "with open(f\"{INPUT_ALL_DIR}/statistics/prob1_crsr_age_sex_etiology.txt\", \"w\") as f:\n",
    "    f.write(ols_model.summary2().__str__())\n",
    "    \n",
    "ols_model.summary2()"
   ]
  },
  {
   "cell_type": "code",
   "execution_count": null,
   "metadata": {},
   "outputs": [],
   "source": [
    "lr = linregress(outcomes[\"outcome_crsr\"], outcomes[\"prob2\"])\n",
    "plot_correlation(\n",
    "    outcomes[\"outcome_crsr\"], \n",
    "    outcomes[\"prob2\"], \n",
    "    lr, \n",
    "    output_file=f\"{INPUT_PATIENTS_DIR}/figures/prob2_crsr.png\",\n",
    "    xmin=0,\n",
    "    xmax=23,\n",
    "    ymin=0,\n",
    "    ymax=1,\n",
    "    xticks=[0, 5, 10, 15, 20],\n",
    "    xtickslabels=[0,5,10,15,20],\n",
    "    facecolor=\"#cc0000\",\n",
    "    figsize=(10,10)\n",
    ")\n",
    "\n",
    "plt.rcParams.update({'font.size': 40})"
   ]
  },
  {
   "cell_type": "code",
   "execution_count": null,
   "metadata": {},
   "outputs": [],
   "source": [
    "ols_model = smf.ols(\"prob2 ~ outcome_crsr + age + sex + etiology\", outcomes).fit()\n",
    "\n",
    "with open(f\"{INPUT_ALL_DIR}/statistics/prob2_crsr_age_sex_etiology.txt\", \"w\") as f:\n",
    "    f.write(ols_model.summary2().__str__())\n",
    "    \n",
    "ols_model.summary2()"
   ]
  },
  {
   "cell_type": "code",
   "execution_count": null,
   "metadata": {},
   "outputs": [],
   "source": [
    "lr = linregress(outcomes[\"outcome_crsr\"], outcomes[\"we\"])\n",
    "plot_correlation(\n",
    "    outcomes[\"outcome_crsr\"], \n",
    "    outcomes[\"we\"], \n",
    "    lr, \n",
    "    output_file=f\"{INPUT_PATIENTS_DIR}/figures/we_crsr.png\",\n",
    "    xmin=0,\n",
    "    xmax=23,\n",
    "    ymin=0,\n",
    "    ymax=1,\n",
    "    xticks=[0, 5, 10, 15, 20],\n",
    "    xtickslabels=[0,5,10,15,20],\n",
    "    facecolor=\"#cc0000\",\n",
    "    figsize=(10,10)\n",
    ")\n",
    "\n",
    "plt.rcParams.update({'font.size': 40})"
   ]
  },
  {
   "cell_type": "code",
   "execution_count": null,
   "metadata": {},
   "outputs": [],
   "source": [
    "ols_model = smf.ols(\"we ~ outcome_crsr + age + sex + etiology\", outcomes).fit()\n",
    "\n",
    "with open(f\"{INPUT_ALL_DIR}/statistics/we_crsr_age_sex_etiology.txt\", \"w\") as f:\n",
    "    f.write(ols_model.summary2().__str__())\n",
    "    \n",
    "ols_model.summary2()"
   ]
  },
  {
   "cell_type": "markdown",
   "metadata": {},
   "source": [
    "#### Binary outcome"
   ]
  },
  {
   "cell_type": "code",
   "execution_count": null,
   "metadata": {},
   "outputs": [],
   "source": [
    "improve = outcomes[outcomes[\"binary_outcome\"] == 1]\n",
    "worse = outcomes[outcomes[\"binary_outcome\"] == 0]"
   ]
  },
  {
   "cell_type": "code",
   "execution_count": null,
   "metadata": {},
   "outputs": [],
   "source": [
    "plot_points(\n",
    "    worse[\"prob1\"], \n",
    "    improve[\"prob1\"], \n",
    "    facecolors=[\"#222222\", \"#cc0000\"], \n",
    "    alpha=0.25,\n",
    "    capsize=5, \n",
    "    elinewidth=5, \n",
    "    capthick=5,\n",
    "    dot_size=500,\n",
    "    figsize=(10,10)\n",
    ")\n",
    "\n",
    "plt.rcParams.update({'font.size': 40})\n",
    "plt.tight_layout()\n",
    "plt.savefig(f\"{INPUT_PATIENTS_DIR}/figures/prob1_outcome.png\")"
   ]
  },
  {
   "cell_type": "code",
   "execution_count": null,
   "metadata": {},
   "outputs": [],
   "source": [
    "ols_model = smf.ols(\"prob1 ~ binary_outcome_cat + age + sex + etiology\", outcomes).fit()\n",
    "\n",
    "with open(f\"{INPUT_ALL_DIR}/statistics/prob1_binaryoutcome_age_sex_etiology.txt\", \"w\") as f:\n",
    "    f.write(ols_model.summary2().__str__())\n",
    "    \n",
    "ols_model.summary2()"
   ]
  },
  {
   "cell_type": "code",
   "execution_count": null,
   "metadata": {},
   "outputs": [],
   "source": [
    "pruebita_ols = smf.ols(\"we ~ binary_outcome_cat + age + sex + etiology\", outcomes).fit()\n",
    "pruebita_ols.summary2()"
   ]
  },
  {
   "cell_type": "code",
   "execution_count": null,
   "metadata": {},
   "outputs": [],
   "source": [
    "plot_points(\n",
    "    worse[\"prob2\"], \n",
    "    improve[\"prob2\"], \n",
    "    facecolors=[\"#222222\", \"#cc0000\"], \n",
    "    alpha=0.25,\n",
    "    capsize=5, \n",
    "    elinewidth=5, \n",
    "    capthick=5,\n",
    "    dot_size=500,\n",
    "    figsize=(10,10)\n",
    ")\n",
    "\n",
    "plt.rcParams.update({'font.size': 40})\n",
    "plt.tight_layout()\n",
    "plt.savefig(f\"{INPUT_PATIENTS_DIR}/figures/prob2_outcome.png\")"
   ]
  },
  {
   "cell_type": "code",
   "execution_count": null,
   "metadata": {},
   "outputs": [],
   "source": [
    "md = smf.mixedlm(\"prob2 ~ binary_outcome_cat + age + sex + etiology\", outcomes, groups=outcomes[\"patient\"])\n",
    "mdf = md.fit()\n",
    "\n",
    "with open(f\"{INPUT_PATIENTS_DIR}/statistics/prob2_binaryoutcome_age_sex_etiology.txt\", \"w\") as f:\n",
    "    f.write(mdf.summary().__str__())\n",
    "\n",
    "mdf.summary()"
   ]
  },
  {
   "cell_type": "code",
   "execution_count": null,
   "metadata": {},
   "outputs": [],
   "source": [
    "plot_points(\n",
    "    worse[\"we\"], \n",
    "    improve[\"we\"], \n",
    "    facecolors=[\"#222222\", \"#cc0000\"], \n",
    "    alpha=0.25,\n",
    "    capsize=5, \n",
    "    elinewidth=5, \n",
    "    capthick=5,\n",
    "    dot_size=500,\n",
    "    figsize=(10,10)\n",
    ")\n",
    "\n",
    "plt.rcParams.update({'font.size': 40})\n",
    "plt.tight_layout()\n",
    "plt.savefig(f\"{INPUT_PATIENTS_DIR}/figures/we_outcome.png\")"
   ]
  },
  {
   "cell_type": "code",
   "execution_count": null,
   "metadata": {},
   "outputs": [],
   "source": [
    "md = smf.mixedlm(\"we ~ binary_outcome_cat + age + sex + etiology\", outcomes, groups=outcomes[\"patient\"])\n",
    "mdf = md.fit()\n",
    "\n",
    "with open(f\"{INPUT_PATIENTS_DIR}/statistics/we_binaryoutcome_age_sex_etiology.txt\", \"w\") as f:\n",
    "    f.write(mdf.summary().__str__())\n",
    "\n",
    "mdf.summary()"
   ]
  },
  {
   "cell_type": "markdown",
   "metadata": {},
   "source": [
    "#### Leave one out"
   ]
  },
  {
   "cell_type": "code",
   "execution_count": null,
   "metadata": {},
   "outputs": [],
   "source": [
    "predicted_outcome = np.zeros(23)\n",
    "predicted_score_list = np.zeros(23)\n",
    "for iSub in range(23):\n",
    "    prob = sio.loadmat(f\"{INPUT_LEAVE_ONE_OUT}/{iSub}.mat\")[\"prob\"]\n",
    "    probs = sio.loadmat(f\"{INPUT_LEAVE_ONE_OUT}/{iSub}.mat\")[\"probs\"]\n",
    "    entropy = sio.loadmat(f\"{INPUT_LEAVE_ONE_OUT}/{iSub}.mat\")[\"entropy\"]\n",
    "    \n",
    "    outcomes_test = outcomes.copy()\n",
    "    outcomes_test.drop(outcomes_test.index[iSub], inplace=True)\n",
    "    outcomes_test[\"we\"] = np.sum(probs*np.repeat(entropy, 22, axis=0), axis=1)\n",
    "\n",
    "    worse = outcomes_test[outcomes_test[\"binary_outcome\"] == 0][\"we\"].mean()\n",
    "    better = outcomes_test[outcomes_test[\"binary_outcome\"] == 1][\"we\"].mean()\n",
    "    we = np.sum(prob*entropy)\n",
    "    predicted_score = (we - worse)/(better-worse)\n",
    "    predicted_score = np.max([np.min([predicted_score, 1]), 0]) # clamp to [0, 1] \n",
    "    predicted_score_list[iSub] = predicted_score\n",
    "    #if we > (worse+better)/2:\n",
    "    #    predicted_outcome[iSub] = 1\n",
    "    #else:\n",
    "    #    predicted_outcome[iSub] = 0\n",
    "\n",
    "predicted_outcome = (predicted_score_list > 0.5).astype(int)"
   ]
  },
  {
   "cell_type": "code",
   "execution_count": null,
   "metadata": {},
   "outputs": [],
   "source": [
    "outcomes[\"predicted_outcome\"] = predicted_outcome\n",
    "cm = confusion_matrix(outcomes[\"binary_outcome\"].values, outcomes[\"predicted_outcome\"].values)\n",
    "cm_norm = confusion_matrix(outcomes[\"binary_outcome\"].values, outcomes[\"predicted_outcome\"].values, normalize=\"true\")"
   ]
  },
  {
   "cell_type": "code",
   "execution_count": null,
   "metadata": {},
   "outputs": [],
   "source": [
    "disp = ConfusionMatrixDisplay(cm)\n",
    "disp.plot()\n",
    "\n",
    "#plt.savefig(f\"{INPUT_LEAVE_ONE_OUT}/figures/confusion_matrix.png\")"
   ]
  },
  {
   "cell_type": "code",
   "execution_count": null,
   "metadata": {},
   "outputs": [],
   "source": [
    "stat, p = fisher_exact(cm)\n",
    "stat, p"
   ]
  },
  {
   "cell_type": "code",
   "execution_count": null,
   "metadata": {},
   "outputs": [],
   "source": [
    "plot_confusion_matrix(cm_norm, output_path=f\"{INPUT_PATIENTS_DIR}/figures/confusion_matrix.png\")"
   ]
  },
  {
   "cell_type": "code",
   "execution_count": null,
   "metadata": {},
   "outputs": [],
   "source": [
    "fp, tp, thresholds = roc_curve(outcomes[\"binary_outcome\"].values, predicted_score_list)\n",
    "auc = roc_auc_score(outcomes[\"binary_outcome\"].values, predicted_score_list)\n",
    "prec = precision_score(outcomes[\"binary_outcome\"].values, outcomes[\"predicted_outcome\"].values)\n",
    "f1 = f1_score(outcomes[\"binary_outcome\"].values, outcomes[\"predicted_outcome\"].values)\n",
    "recall = recall_score(outcomes[\"binary_outcome\"].values, outcomes[\"predicted_outcome\"].values)\n",
    "\n",
    "fig, ax = plt.subplots(figsize=(10,10))\n",
    "ax.plot(fp, tp, c=\"#333333\", lw=6)\n",
    "ax.plot([0, 1], [0, 1], c=\"red\", linestyle=\"dashed\", lw=6)\n",
    "ax.set_yticks([0, 0.5, 1])\n",
    "\n",
    "ax.spines[['right', 'top']].set_visible(False)\n",
    "plt.setp(ax.spines.values(), linewidth=6)\n",
    "\n",
    "plt.rcParams.update({'font.size': 40})\n",
    "plt.tight_layout()\n",
    "plt.savefig(f\"{INPUT_LEAVE_ONE_OUT}/figures/roc.png\")"
   ]
  },
  {
   "cell_type": "code",
   "execution_count": null,
   "metadata": {},
   "outputs": [],
   "source": [
    "print(f\"AUC = {auc:.3f}\")\n",
    "print(f\"Precision = {prec}\")\n",
    "print(f\"F1-score = {f1}\")\n",
    "print(f\"Recall = {recall}\")"
   ]
  }
 ],
 "metadata": {
  "kernelspec": {
   "display_name": "Python 3",
   "language": "python",
   "name": "python3"
  },
  "language_info": {
   "codemirror_mode": {
    "name": "ipython",
    "version": 3
   },
   "file_extension": ".py",
   "mimetype": "text/x-python",
   "name": "python",
   "nbconvert_exporter": "python",
   "pygments_lexer": "ipython3",
   "version": "3.8.10"
  }
 },
 "nbformat": 4,
 "nbformat_minor": 2
}
